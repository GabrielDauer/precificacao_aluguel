{
 "cells": [
  {
   "cell_type": "markdown",
   "metadata": {},
   "source": [
    "<h1 style = 'color:cyan'> Projeto de precificação de aluguéis com predição utilizando da Regressão Linear Múltipla </h1>\n",
    "<hr>"
   ]
  },
  {
   "cell_type": "markdown",
   "metadata": {},
   "source": [
    "### Bibliotecas"
   ]
  },
  {
   "cell_type": "code",
   "execution_count": null,
   "metadata": {},
   "outputs": [],
   "source": [
    "#Bibliotecas utilizadas no projeto\n",
    "import pandas as pd\n",
    "import seaborn as sns\n",
    "import sklearn.model_selection as ms\n",
    "import sklearn.linear_model as lm\n",
    "from sklearn.metrics import r2_score\n",
    "import matplotlib.pyplot as plt\n",
    "import numpy as np"
   ]
  },
  {
   "cell_type": "markdown",
   "metadata": {},
   "source": [
    "### Importação dos dados"
   ]
  },
  {
   "cell_type": "code",
   "execution_count": null,
   "metadata": {},
   "outputs": [],
   "source": [
    "#Importação de arquivo csv com os dados fornecidos.\n",
    "df = pd.read_csv('teste_indicium_precificacao.csv')"
   ]
  },
  {
   "cell_type": "markdown",
   "metadata": {},
   "source": [
    "### Analise exploratória dos dados"
   ]
  },
  {
   "cell_type": "code",
   "execution_count": null,
   "metadata": {},
   "outputs": [],
   "source": [
    "#Visualização das primeiras cinco linhas do DataFrame.\n",
    "df.head()"
   ]
  },
  {
   "cell_type": "code",
   "execution_count": null,
   "metadata": {},
   "outputs": [],
   "source": [
    "#Visualização das últimas cinco linhas do DataFrame.\n",
    "df.tail()"
   ]
  },
  {
   "cell_type": "code",
   "execution_count": null,
   "metadata": {},
   "outputs": [],
   "source": [
    "#Dimensação do DataFrame.\n",
    "df.shape"
   ]
  },
  {
   "cell_type": "code",
   "execution_count": null,
   "metadata": {},
   "outputs": [],
   "source": [
    "#Identificação de valores nulos por coluna.\n",
    "df.isna().sum()"
   ]
  },
  {
   "cell_type": "markdown",
   "metadata": {},
   "source": [
    "Como foram identificados valores nulos nas colunas df['ultima_review'] e df['reviews_por_mes'], é necessário excluir quaisquer valores nulos das linhas."
   ]
  },
  {
   "cell_type": "code",
   "execution_count": null,
   "metadata": {},
   "outputs": [],
   "source": [
    "#Exclusão de linhas com qualquer valor nulo.\n",
    "df = df.dropna()"
   ]
  },
  {
   "cell_type": "code",
   "execution_count": null,
   "metadata": {},
   "outputs": [],
   "source": [
    "#Identificação dos tipos de dados por coluna.\n",
    "df.dtypes"
   ]
  },
  {
   "cell_type": "code",
   "execution_count": null,
   "metadata": {},
   "outputs": [],
   "source": [
    "#Obervação de padrão nos nomes de anúncios com preços mais caros.\n",
    "pd.set_option('display.max_columns', None)\n",
    "pd.set_option('display.max_rows', None)\n",
    "np.set_printoptions(threshold=np.inf)\n",
    "print(df[['nome', 'price']].sort_values(by='price', ascending=False).head(100))"
   ]
  },
  {
   "cell_type": "code",
   "execution_count": null,
   "metadata": {},
   "outputs": [],
   "source": [
    "#Exclusão de colunas desnecessárias para o modelo e identificação da correlação entre as variáveis.\n",
    "df_sem_colunas_categoricas = df.drop(['id', 'nome', 'host_name', 'host_id', 'latitude', 'longitude', 'ultima_review', 'bairro_group', 'bairro', 'room_type'], axis= 1)\n",
    "df_sem_colunas_categoricas.corr()"
   ]
  },
  {
   "cell_type": "markdown",
   "metadata": {},
   "source": [
    "Não há um número significativo entre correlações de preço e alguma das variáveis, a maior entre as correlações é de 7,82%"
   ]
  },
  {
   "cell_type": "code",
   "execution_count": null,
   "metadata": {},
   "outputs": [],
   "source": [
    "#Tabela descritiva das variáveis.\n",
    "df_sem_colunas_categoricas.describe()"
   ]
  },
  {
   "cell_type": "markdown",
   "metadata": {},
   "source": [
    "Nesta tabela descritiva, é possível observar uma média considerável, porém há valores que podem estar distorcendo a realidade, pois a média do preço está em US$ 142,33, e o valor máximo encontrado é de US$ 10000, ou seja, há outliers que necessitam ser tratados."
   ]
  },
  {
   "cell_type": "code",
   "execution_count": null,
   "metadata": {},
   "outputs": [],
   "source": [
    "#Identificação de outliers de preço com box plot.\n",
    "sns.boxplot(y='price', data= df_sem_colunas_categoricas)"
   ]
  },
  {
   "cell_type": "markdown",
   "metadata": {},
   "source": [
    "Com este box plot é possível ver nitidamente a distribuição com grande quantidade de outliers."
   ]
  },
  {
   "cell_type": "code",
   "execution_count": null,
   "metadata": {},
   "outputs": [],
   "source": [
    "#Histograma do preço dos aluguéis.\n",
    "plt.hist(df_sem_colunas_categoricas['price'], bins= 100)\n",
    "plt.show()"
   ]
  },
  {
   "cell_type": "markdown",
   "metadata": {},
   "source": [
    "Outra forma de identificar outliers é utilizando de histogramas, e confirmamos a suspeita anterior."
   ]
  },
  {
   "cell_type": "code",
   "execution_count": null,
   "metadata": {},
   "outputs": [],
   "source": [
    "#A solução para os outliers foi encontrar um quantil onde não seria mais identificados os pontos extremos.\n",
    "percentile_92 = df[['price', 'minimo_noites', 'numero_de_reviews', 'reviews_por_mes', 'calculado_host_listings_count', 'disponibilidade_365']].quantile(0.92)\n",
    "\n",
    "df_clean = df[(df['price'] <= percentile_92['price']) &\n",
    "              (df['minimo_noites'] <= percentile_92['minimo_noites']) & \n",
    "              (df['numero_de_reviews'] <= percentile_92['numero_de_reviews']) & \n",
    "              (df['reviews_por_mes'] <= percentile_92['reviews_por_mes']) & \n",
    "              (df['calculado_host_listings_count'] <= percentile_92['calculado_host_listings_count']) & \n",
    "              (df['disponibilidade_365'] <= percentile_92['disponibilidade_365'])]"
   ]
  },
  {
   "cell_type": "markdown",
   "metadata": {},
   "source": [
    "O tratamento de outliers foi escolhido a dedo por ser o primeiro percentil onde não são apresentados outliers no box plot, sendo assim é considerado como dado limpo."
   ]
  },
  {
   "cell_type": "code",
   "execution_count": null,
   "metadata": {},
   "outputs": [],
   "source": [
    "#Exemplo de box plot dos dados de preço sem outliers.\n",
    "sns.boxplot(y= 'price', data= df_clean)\n",
    "plt.show()"
   ]
  },
  {
   "cell_type": "code",
   "execution_count": null,
   "metadata": {},
   "outputs": [],
   "source": [
    "#Histograma de todas as variáveis tentando diminuir os outliers.\n",
    "df_clean.hist(figsize= (10,10), bins = 10)\n",
    "plt.show()"
   ]
  },
  {
   "cell_type": "markdown",
   "metadata": {},
   "source": [
    "O histograma apresentado foi para entender melhor a distribuição dos dados tratados das variáveis, e em sua maioria, os dados apresentaram possuir um comportamento \"skew right\", ou distribuição assimétrica com cauda longa inclinada para a direita, positivamente viesado. Considerando este comportamento, é possível observar tendências nos dados. Quanto mais barato o preço do aluguel, mais pessoas estarão na faixa de preço, além disso em sua maioria, os inquilinos não passam de 5 dias de aluguel. O número de views totais em sua maioria estão em imóveis de até 25 reviews e no máximo 2 reviews por mês. A quantidade de imóveis listadas no site não geram grande impacto, e por fim é importante observar que a maioria dos imóveis estão com menos de 100 dias de disponibilidade, podendo gerar um preço de aluguel maior por falta de dispobilidade. "
   ]
  },
  {
   "cell_type": "code",
   "execution_count": null,
   "metadata": {},
   "outputs": [],
   "source": [
    "#Obtenha os tipos de quarto únicos\n",
    "tipos_de_quarto = df_clean['room_type'].unique()\n",
    "\n",
    "#Para cada tipo de quarto, crie um histograma\n",
    "for tipo in tipos_de_quarto:\n",
    "    df_clean[df_clean['room_type'] == tipo]['price'].hist(bins=10, alpha=0.5, figsize= (5, 5))\n",
    "    plt.title(f'Histograma de preços para {tipo}')\n",
    "    plt.show()\n",
    "\n",
    "#Agrupamento de preço médio por tipo de quarto.\n",
    "media_preco_por_quarto = df_clean.groupby('room_type')['price'].mean()\n",
    "print(media_preco_por_quarto)"
   ]
  },
  {
   "cell_type": "markdown",
   "metadata": {},
   "source": [
    "No histograma de tipos de imóveis dos anúncios e seus preços, é possível observar de novo uma tendência de distribuição assimétrica com cauda longa para a direita em tipos mais baratos, ou seja, o shared room e private room. No shared room existem anúncios de 0 dólares, o que é no mínimo intrigante para uma plataforma de aluguéis, e a maioria de seus preços não ultrapassam a barreira de US$ 100/dia, e sua média exata de US$ 60,75/dia. Private room por sua vez atinge um público-alvo diferente, propensos a pagar um pouco a mais pelo conforto de ter o seu próprio quarto, porém esperava-se uma distribuição diferente, ainda assim a maioria dos dados não ultrapassam os US$ 100, com uma média de US$ 76,14. Por último está o entire home/apt, com um salto gigantesco de distribuição no histograma. Sua média está girando em torno de US$ 150,64."
   ]
  },
  {
   "cell_type": "code",
   "execution_count": null,
   "metadata": {},
   "outputs": [],
   "source": [
    "#Obtenha os tipos de quarto únicos\n",
    "distritos_unicos = df_clean['bairro_group'].unique()\n",
    "\n",
    "#Para cada tipo de quarto, crie um histograma\n",
    "for distrito in distritos_unicos:\n",
    "    df_clean[df_clean['bairro_group'] == distrito]['price'].hist(bins=10, alpha=0.5, figsize= (5, 5))\n",
    "    plt.title(f'Histograma de preços para {distrito}')\n",
    "    plt.show()\n",
    "\n",
    "#Agrupamento de preço médio por distrito.\n",
    "media_preco_por_distrito = df_clean.groupby('bairro_group')['price'].mean()\n",
    "print(media_preco_por_distrito)"
   ]
  },
  {
   "cell_type": "markdown",
   "metadata": {},
   "source": [
    "Partindo para uma análise dos distritos, na média, o Bronx é o mais penalizado no ticket médio, considerando a localização. Mesmo sendo o mais barato em média e observando a distribuição, é possível observar algum fator externo que faça com que não tenham muitos aluguéis por la, a péssima qualidade de vida é reportada na mídia do Estados Unidos por conta da violência, provavelmente há uma correlação entre os preços baixos, e baixas quantidadades de anúncios com a baixa qualidade de vida ali presente. Staten Island tem uma média maior, porém a quantidade de anúncios conseguem ser menor que o Bronx. Pesquisando um pouco observei que o custo de vida por la é elevado, tráfego intenso, são altamente impactados ambientalmente O Queens tem um ticket médio maior do que Bronx e menor do que Staten Island, porém a quantidade de anúncios é muito superior. Mesmo sendo considerado um bairro de qualidade de vida difícil, é mais aceito em relação aos outros dois anteriores. Vale ressaltar que nenhum dos três possui média de aluguel maior ou igual a 100 dólares ao dia. Brooklyn é um dos bairros mais famosos de New York, seu ticket médio ultrapassa os US$ 100, porém o que mais se destaca é a quantidade de anúncios referente a este distrito, entre ele é o bairro com mais anúncios e maiores oportunidades. Por último esta Manhattan,o distrito com maior preço médio apresentado, além de ser o único dos cinco com menor tendência caudal para direita, ou seja, mais pessoas pagando próximo a média esperada.\n",
    "\n",
    "Em conclusão, podemos observar uma oportunidade de negócio para focar em divulgação de aluguéis em forma de diária, com preço até no máximo US$ 145 pois está perto do valor esperado em geral."
   ]
  },
  {
   "cell_type": "code",
   "execution_count": null,
   "metadata": {},
   "outputs": [],
   "source": [
    "#Tentativa de visualização de tendência, porém há muitas observações para observar em um scatterplot utilizando como categoria os tipos de quarto.\n",
    "fig,ax = plt.subplots(3,2, figsize=(20,10))\n",
    "sns.scatterplot(x= 'minimo_noites', y= 'price',data= df_clean, ax= ax[0][0], alpha = 0.1);\n",
    "sns.scatterplot(x= 'numero_de_reviews', y= 'price',data= df_clean, ax= ax[0][1], alpha = 0.1);\n",
    "sns.scatterplot(x= 'reviews_por_mes', y= 'price',data= df_clean, ax= ax[1][0], alpha = 0.1);\n",
    "sns.scatterplot(x= 'calculado_host_listings_count', y= 'price',data= df_clean, ax= ax[1][1], alpha = 0.1);\n",
    "sns.scatterplot(x= 'disponibilidade_365', y= 'price',data= df_clean, ax= ax[2][1], alpha = 0.1);\n",
    "plt.show()"
   ]
  },
  {
   "cell_type": "markdown",
   "metadata": {},
   "source": [
    "Por conta da grande quantidade de dados, torna-se difícil observar linhas de tendencias com gráficos de distribuição, além de alguns estarem seguindo categorias, então não se dispersam em valores no eixo x e y, apenas no eixo y."
   ]
  },
  {
   "cell_type": "markdown",
   "metadata": {},
   "source": [
    "### Regressão Linear Múltipla Scikit Learn"
   ]
  },
  {
   "cell_type": "code",
   "execution_count": null,
   "metadata": {},
   "outputs": [],
   "source": [
    "#Tranformação das variáveis qualitativas para variáveis dummy.\n",
    "bairro_group_dummy = pd.get_dummies(df_clean['bairro_group']).iloc[:, 1:]\n",
    "room_type_dummy = pd.get_dummies(df_clean['room_type']).iloc[:, 1:]"
   ]
  },
  {
   "cell_type": "code",
   "execution_count": null,
   "metadata": {},
   "outputs": [],
   "source": [
    "#Modificação nas colunas para posteriormente facilitar na identificação das variáveis independentes e dependente.\n",
    "df2 = df_clean.drop(['price', 'id', 'nome', 'host_name', 'host_id', 'latitude', 'longitude', 'ultima_review', 'bairro_group', 'bairro', 'room_type'], axis= 1)\n",
    "df3 = pd.concat([df2, bairro_group_dummy, room_type_dummy], axis= 1)"
   ]
  },
  {
   "cell_type": "code",
   "execution_count": null,
   "metadata": {},
   "outputs": [],
   "source": [
    "#Identificação das variáveis independentes e dependente.\n",
    "x = df3\n",
    "y = df_clean['price'].copy()\n",
    "\n",
    "x_train = df3\n",
    "y_train = df_clean['price'].copy()"
   ]
  },
  {
   "cell_type": "code",
   "execution_count": null,
   "metadata": {},
   "outputs": [],
   "source": [
    "#Divisão do grupo controle e grupo de tratamento com a divisão de 20% para o controle e 80% para o de tratamento\n",
    "x_train, x_test, y_train, y_test = ms.train_test_split(x, y, test_size= 0.2, random_state= 0)"
   ]
  },
  {
   "cell_type": "code",
   "execution_count": null,
   "metadata": {},
   "outputs": [],
   "source": [
    "#Definição do modelo\n",
    "modelo = lm.LinearRegression()\n",
    "modelo.fit(x_train, y_train)"
   ]
  },
  {
   "cell_type": "code",
   "execution_count": null,
   "metadata": {},
   "outputs": [],
   "source": [
    "#Predição dos dados considerando o modelo criado.\n",
    "pred_train = modelo.predict(x_train)\n",
    "pred_test = modelo.predict(x_test)"
   ]
  },
  {
   "cell_type": "code",
   "execution_count": null,
   "metadata": {},
   "outputs": [],
   "source": [
    "#R² ou coeficiente de determinação entre variáveis independentes e a variável dependente.\n",
    "r_train = r2_score(y_train, pred_train)\n",
    "r_test = r2_score(y_test, pred_test)"
   ]
  },
  {
   "cell_type": "code",
   "execution_count": null,
   "metadata": {},
   "outputs": [],
   "source": [
    "#Intercepto do modelo\n",
    "modelo.intercept_"
   ]
  },
  {
   "cell_type": "code",
   "execution_count": null,
   "metadata": {},
   "outputs": [],
   "source": [
    "#β's (ou coeficientes de inclinação ou parâmetros) das variáveis dependentes.\n",
    "modelo.coef_"
   ]
  },
  {
   "cell_type": "code",
   "execution_count": null,
   "metadata": {},
   "outputs": [],
   "source": [
    "#Gráfico de regressão do modelo\n",
    "plt.figure(figsize=(10, 6))\n",
    "\n",
    "#Plotando os valores reais\n",
    "plt.scatter(y_test, pred_test, color='blue', label='Valores reais')\n",
    "\n",
    "#Plotando a linha de regressão\n",
    "plt.plot(y_test, y_test, color='red', label='Linha de regressão')\n",
    "\n",
    "plt.xlabel('Valores Reais')\n",
    "plt.ylabel('Valores Previstos')\n",
    "plt.title('Valores Reais vs Valores Previstos')\n",
    "plt.legend()\n",
    "\n",
    "plt.show()"
   ]
  },
  {
   "cell_type": "markdown",
   "metadata": {},
   "source": [
    "### Perguntas"
   ]
  },
  {
   "cell_type": "markdown",
   "metadata": {},
   "source": [
    "2. Responda também às seguintes perguntas:\n",
    "\n",
    "a) Supondo que uma pessoa esteja pensando em investir em um apartamento para alugar na plataforma, onde seria mais indicada a compra?\n",
    "\n",
    "b) O número mínimo de noites e a disponibilidade ao longo do ano interferem no preço?\n",
    "\n",
    "c) Existe algum padrão no texto do nome do local para lugares de mais alto valor?\n",
    "\n",
    "3. Explique como você faria a previsão do preço a partir dos dados. Quais variáveis e/ou suas transformações você utilizou e por quê? Qual tipo de problema estamos resolvendo (regressão, classificação)? Qual modelo melhor se aproxima dos dados e quais seus prós e contras? Qual medida de performance do modelo foi escolhida e por quê?\n",
    "\n",
    "4. Supondo um apartamento com as seguintes características:\n",
    "\n",
    "{'id': 2595,\n",
    " 'nome': 'Skylit Midtown Castle',\n",
    " 'host_id': 2845,\n",
    " 'host_name': 'Jennifer',\n",
    " 'bairro_group': 'Manhattan',\n",
    " 'bairro': 'Midtown',\n",
    " 'latitude': 40.75362,\n",
    " 'longitude': -73.98377,\n",
    " 'room_type': 'Entire home/apt',\n",
    " 'price': 225,\n",
    " 'minimo_noites': 1,\n",
    " 'numero_de_reviews': 45,\n",
    " 'ultima_review': '2019-05-21',\n",
    " 'reviews_por_mes': 0.38,\n",
    " 'calculado_host_listings_count': 2,\n",
    " 'disponibilidade_365': 355}\n",
    "\n",
    "Qual seria a sua sugestão de preço?"
   ]
  },
  {
   "cell_type": "markdown",
   "metadata": {},
   "source": [
    "### Respostas"
   ]
  },
  {
   "cell_type": "markdown",
   "metadata": {},
   "source": [
    "2. a) Se um possível cliente do site esté em dúvida onde deve comprar um imóvel que valha mais a pena o investimento, é possível afirmar que Manhattan, pelo seu preço médio sendo o destaque entre os cinco distritos e por uma melhor qualidade de vida em comparação aos outros apresentados.\n",
    "\n",
    "b) Observando todos os coeficientes, inclusive das dummies, identifica-se que não há valores nulos, então todos os betas e suas variáveis independentes impactam na variável dependente.\n",
    "\n",
    "c) Os anúncios mais caros sempre deixam a entender que é um imóvel de luxo e as localizações tendem a ser próximos de locais muito famosos de Nova York por filmes."
   ]
  },
  {
   "cell_type": "markdown",
   "metadata": {},
   "source": [
    "3. Para a previsão do preço foi utilizada uma regressão linear múltipla, com uma variável dependente y sendo o preço do aluguel anunciado e as variáveis independentes divididas entre duas dummies de valor númerico categórico, sendo elas o distrito e o tipo de imóvel anunciado. Eu descartei do estudo as colunas ['id', 'nome', 'host_name', 'host_id', 'latitude', 'longitude', 'ultima_review', 'bairro'] em geral por não ver sentido da correção delas estarem presente no estudo, e além disto, quando tentei fazer a dummy debairro, geraram muitas colunas, e gerando também muito coeficientes, aproximadamente 260 coeficientes. Com a ajuda do pacote Scikit Learn eu consegui criar o modelo para a predição de aluguéis com um coeficiente de determinação de 48,25%, ou seja, 48,25% dos resultados podem ser explicados com o modelo de predição. O R² foi escolhido por ser uma das primeiras medidas de eficiência de um modelo, e considerando as tentativas feitas neste projeto onde eu chega apenas a 14 e 18%, estou muito feliz com o resultado, independentemente se esteja correto."
   ]
  },
  {
   "cell_type": "markdown",
   "metadata": {},
   "source": [
    "4. De acordo com o modelo de machine learning desenvolvido, há uma chance de 48% de que a sugestão de preço para este anúncio seja US$ 135,12"
   ]
  },
  {
   "cell_type": "code",
   "execution_count": 34,
   "metadata": {},
   "outputs": [
    {
     "name": "stdout",
     "output_type": "stream",
     "text": [
      "A sugestão de preço é: US$133.62541905428367\n"
     ]
    }
   ],
   "source": [
    "dados = {'id': 2595,\n",
    " 'nome': 'Skylit Midtown Castle',\n",
    " 'host_id': 2845,\n",
    " 'host_name': 'Jennifer',\n",
    " 'bairro_group': 'Manhattan',\n",
    " 'bairro': 'Midtown',\n",
    " 'latitude': 40.75362,\n",
    " 'longitude': -73.98377,\n",
    " 'room_type': 'Entire home/apt',\n",
    " 'price': 225,\n",
    " 'minimo_noites': 1,\n",
    " 'numero_de_reviews': 45,\n",
    " 'ultima_review': '2019-05-21',\n",
    " 'reviews_por_mes': 0.38,\n",
    " 'calculado_host_listings_count': 2,\n",
    " 'disponibilidade_365': 355}\n",
    "\n",
    "# Converta para DataFrame\n",
    "df = pd.DataFrame([dados])\n",
    "\n",
    "# Defina as categorias para 'bairro_group' e 'room_type'\n",
    "categorias_bairro = ['Manhattan', 'Brooklyn', 'Queens', 'Staten Island', 'Bronx']\n",
    "categorias_room_type = ['Entire home/apt', 'Private room', 'Shared room']\n",
    "\n",
    "# Converta 'bairro_group' e 'room_type' para o tipo de categoria categórica\n",
    "df['bairro_group'] = pd.Categorical(df['bairro_group'], categories=categorias_bairro)\n",
    "df['room_type'] = pd.Categorical(df['room_type'], categories=categorias_room_type)\n",
    "\n",
    "# Crie variáveis dummy para 'bairro_group' e 'room_type'\n",
    "dummies = pd.get_dummies(df[['bairro_group', 'room_type']])\n",
    "\n",
    "# Selecione as outras colunas\n",
    "restante_das_variaveis = df[['minimo_noites', 'numero_de_reviews', 'reviews_por_mes', 'calculado_host_listings_count', 'disponibilidade_365']]\n",
    "\n",
    "# Concatene as variáveis dummy e as outras colunas\n",
    "x_observado = pd.concat([dummies, restante_das_variaveis], axis=1)\n",
    "\n",
    "# Reordene as colunas para que correspondam à ordem em que o modelo foi treinado\n",
    "x_observado = x_observado.reindex(columns=x_train.columns, fill_value=0)\n",
    "\n",
    "# Faça a previsão\n",
    "previsao = modelo.predict(x_observado)\n",
    "\n",
    "print(f'A sugestão de preço é: US${previsao[0]}')"
   ]
  }
 ],
 "metadata": {
  "kernelspec": {
   "display_name": "Python 3",
   "language": "python",
   "name": "python3"
  },
  "language_info": {
   "codemirror_mode": {
    "name": "ipython",
    "version": 3
   },
   "file_extension": ".py",
   "mimetype": "text/x-python",
   "name": "python",
   "nbconvert_exporter": "python",
   "pygments_lexer": "ipython3",
   "version": "3.11.4"
  }
 },
 "nbformat": 4,
 "nbformat_minor": 2
}
